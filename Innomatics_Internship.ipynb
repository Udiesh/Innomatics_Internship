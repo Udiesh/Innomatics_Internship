{
 "cells": [
  {
   "cell_type": "code",
   "execution_count": 7,
   "id": "aa7db295-181b-43f3-9334-80d06430cd7a",
   "metadata": {},
   "outputs": [],
   "source": [
    "import pandas as pd\n",
    "import numpy as np\n",
    "from scipy.stats import ttest_ind\n",
    "import zipfile\n",
    "import os\n",
    "\n",
    "# Step 1: Extract and Load Datasets\n",
    "# Unzipping the dataset\n",
    "zip_file_path = \"Property_data-20250109T061007Z-001.zip\"\n",
    "extraction_dir = \"property_data_extracted\"\n",
    "\n",
    "with zipfile.ZipFile(zip_file_path, 'r') as zip_ref:\n",
    "    zip_ref.extractall(extraction_dir)\n",
    "\n",
    "# List the extracted files\n",
    "property_data_folder = os.path.join(extraction_dir, \"Property_data\")\n",
    "property_data_files = os.listdir(property_data_folder)"
   ]
  },
  {
   "cell_type": "code",
   "execution_count": 9,
   "id": "d3b1a06f-b581-400a-ae62-920b197bdba7",
   "metadata": {},
   "outputs": [],
   "source": [
    "# Merging the datasets\n",
    "merged_dataframes = []\n",
    "for file_name in property_data_files:\n",
    "    file_path = os.path.join(property_data_folder, file_name)\n",
    "    try:\n",
    "        df = pd.read_csv(file_path, encoding='ISO-8859-1')\n",
    "        merged_dataframes.append(df)\n",
    "    except Exception as e:\n",
    "        print(f\"Error reading {file_name}: {e}\")\n",
    "\n",
    "merged_properties_df = pd.concat(merged_dataframes, ignore_index=True)\n",
    "\n",
    "# Step 2: Process property_photos.tsv\n",
    "property_photos_path = \"property_photos.tsv\"\n",
    "property_photos_df = pd.read_csv(property_photos_path, sep=\"\\t\")\n",
    "\n",
    "def extract_photo_count(photo_urls):\n",
    "    if pd.isna(photo_urls):\n",
    "        return 0\n",
    "    try:\n",
    "        return len(eval(photo_urls))\n",
    "    except Exception:\n",
    "        return 0\n",
    "\n",
    "property_photos_df['photo_count'] = property_photos_df['photo_urls'].apply(extract_photo_count)\n",
    "property_photos_df = property_photos_df.drop(columns=['photo_urls'])\n",
    "merged_properties_df = merged_properties_df.merge(property_photos_df, on=\"property_id\", how=\"left\")\n",
    "merged_properties_df['photo_count'] = merged_properties_df['photo_count'].fillna(0).astype(int)\n",
    "\n",
    "# Step 3: Process property_interactions.csv\n",
    "property_interactions_path = \"property_interactions.csv\"\n",
    "property_interactions_df = pd.read_csv(property_interactions_path)\n",
    "property_interactions_df['request_date'] = pd.to_datetime(property_interactions_df['request_date'], errors='coerce', dayfirst=True)\n",
    "merged_properties_df['activation_date'] = pd.to_datetime(merged_properties_df['activation_date'], errors='coerce', dayfirst=True)\n",
    "\n",
    "interaction_with_activation = property_interactions_df.merge(\n",
    "    merged_properties_df[['property_id', 'activation_date']],\n",
    "    on='property_id',\n",
    "    how='inner'\n",
    ")\n",
    "interaction_with_activation['days_since_activation'] = (\n",
    "    interaction_with_activation['request_date'] - interaction_with_activation['activation_date']\n",
    ").dt.days"
   ]
  },
  {
   "cell_type": "code",
   "execution_count": 10,
   "id": "f32a3405-485c-4ef9-81e5-e54e19958b59",
   "metadata": {},
   "outputs": [
    {
     "name": "stdout",
     "output_type": "stream",
     "text": [
      "Q9: Locality with the highest average rent: Bellandur\n"
     ]
    }
   ],
   "source": [
    "# QUESTION 9: Locality with the highest average rent\n",
    "highest_avg_rent_locality = merged_properties_df.groupby('locality')['rent'].mean().idxmax()\n",
    "print(\"Q9: Locality with the highest average rent:\", highest_avg_rent_locality)"
   ]
  },
  {
   "cell_type": "code",
   "execution_count": 11,
   "id": "875b6612-5945-47f7-82eb-17200f25175f",
   "metadata": {},
   "outputs": [
    {
     "name": "stdout",
     "output_type": "stream",
     "text": [
      "Q10: Feature with the highest correlation with rent: bathroom\n"
     ]
    }
   ],
   "source": [
    "# QUESTION 10: Feature with the highest correlation with rent\n",
    "correlation_features = merged_properties_df[['bathroom', 'property_age', 'property_size', 'deposit', 'rent']].corr()\n",
    "highest_corr_feature = correlation_features['rent'].drop('rent').idxmax()\n",
    "print(\"Q10: Feature with the highest correlation with rent:\", highest_corr_feature)"
   ]
  },
  {
   "cell_type": "code",
   "execution_count": 12,
   "id": "7a866c70-251a-41e2-8ba9-edff17a3f15a",
   "metadata": {},
   "outputs": [
    {
     "name": "stdout",
     "output_type": "stream",
     "text": [
      "Q11: Total interactions within 7 days: 1\n"
     ]
    }
   ],
   "source": [
    "\n",
    "# QUESTION 11: Total interactions received within 7 days of activation\n",
    "interactions_within_7_days = interaction_with_activation[interaction_with_activation['days_since_activation'] <= 7]\n",
    "interactions_count = interactions_within_7_days['property_id'].value_counts().mode()[0]\n",
    "print(\"Q11: Total interactions within 7 days:\", interactions_count)"
   ]
  },
  {
   "cell_type": "code",
   "execution_count": 13,
   "id": "66626ce7-95fa-48f8-b227-390e53d8174d",
   "metadata": {},
   "outputs": [
    {
     "name": "stdout",
     "output_type": "stream",
     "text": [
      "Q12: Most frequent property age category: New\n"
     ]
    }
   ],
   "source": [
    "# QUESTION 12: Most frequent property age category\n",
    "def categorize_property_age(age):\n",
    "    if age <= 1:\n",
    "        return \"New\"\n",
    "    elif age <= 5:\n",
    "        return \"Less than 5 years\"\n",
    "    elif age <= 10:\n",
    "        return \"5 to 10 years\"\n",
    "    elif age <= 20:\n",
    "        return \"10 to 20 years\"\n",
    "    else:\n",
    "        return \"More than 20 years\"\n",
    "\n",
    "merged_properties_df['property_age_category'] = merged_properties_df['property_age'].apply(categorize_property_age)\n",
    "most_frequent_age_category = merged_properties_df['property_age_category'].mode()[0]\n",
    "print(\"Q12: Most frequent property age category:\", most_frequent_age_category)\n"
   ]
  },
  {
   "cell_type": "code",
   "execution_count": 22,
   "id": "87ea386c-2c41-47e3-b8c4-65d7389d57f7",
   "metadata": {},
   "outputs": [],
   "source": [
    "# Calculate total_interactions for each property\n",
    "interaction_counts = property_interactions_df['property_id'].value_counts().reset_index()\n",
    "interaction_counts.columns = ['property_id', 'total_interactions']\n",
    "merged_properties_df = merged_properties_df.merge(interaction_counts, on='property_id', how='left')\n",
    "merged_properties_df['total_interactions'] = merged_properties_df['total_interactions'].fillna(0).astype(int)"
   ]
  },
  {
   "cell_type": "code",
   "execution_count": 23,
   "id": "3c38634e-9a20-465d-8bbd-9bb4be6c3888",
   "metadata": {},
   "outputs": [
    {
     "name": "stdout",
     "output_type": "stream",
     "text": [
      "Q13: Apartment type with highest average interactions: RK1\n"
     ]
    }
   ],
   "source": [
    "# QUESTION 13: Apartment type with highest average interactions\n",
    "highest_interaction_type = merged_properties_df.groupby('type')['total_interactions'].mean().idxmax()\n",
    "print(\"Q13: Apartment type with highest average interactions:\", highest_interaction_type)\n",
    "\n"
   ]
  },
  {
   "cell_type": "code",
   "execution_count": 15,
   "id": "80221df5-aed1-44bc-bf5a-4f83fde612fd",
   "metadata": {},
   "outputs": [
    {
     "name": "stdout",
     "output_type": "stream",
     "text": [
      "Q14: Amenity with the greatest impact on rent: lift\n"
     ]
    }
   ],
   "source": [
    "# QUESTION 14: Amenity with the greatest impact on rent\n",
    "for amenity in ['gym', 'lift', 'swimming_pool']:\n",
    "    merged_properties_df[amenity] = pd.to_numeric(merged_properties_df[amenity], errors='coerce')\n",
    "amenity_correlation = {\n",
    "    amenity: merged_properties_df[['rent', amenity]].corr().loc['rent', amenity]\n",
    "    for amenity in ['gym', 'lift', 'swimming_pool']\n",
    "}\n",
    "highest_impact_amenity = max(amenity_correlation, key=amenity_correlation.get)\n",
    "print(\"Q14: Amenity with the greatest impact on rent:\", highest_impact_amenity)\n",
    "\n"
   ]
  },
  {
   "cell_type": "code",
   "execution_count": 24,
   "id": "d969a4d8-afc2-4068-9372-64ca4b3c178d",
   "metadata": {},
   "outputs": [
    {
     "name": "stdout",
     "output_type": "stream",
     "text": [
      "Q15: Locality with highest interactions among top 5 localities: Whitefield\n"
     ]
    }
   ],
   "source": [
    "# QUESTION 15: Highest interaction locality among top 5 localities\n",
    "localities_avg_rent = merged_properties_df.groupby('locality')['rent'].mean().sort_values(ascending=False).head(5)\n",
    "highest_interaction_locality = merged_properties_df[\n",
    "    merged_properties_df['locality'].isin(localities_avg_rent.index)\n",
    "].groupby('locality')['total_interactions'].sum().idxmax()\n",
    "print(\"Q15: Locality with highest interactions among top 5 localities:\", highest_interaction_locality)\n",
    "\n"
   ]
  },
  {
   "cell_type": "code",
   "execution_count": 25,
   "id": "7020534d-4e0d-4df3-a5f3-026243748642",
   "metadata": {},
   "outputs": [
    {
     "name": "stdout",
     "output_type": "stream",
     "text": [
      "Q16: Photo count of property with highest interactions: 0\n"
     ]
    }
   ],
   "source": [
    "# QUESTION 16: Photo count for the property with the highest interactions\n",
    "highest_interactions_property = merged_properties_df['total_interactions'].idxmax()\n",
    "photo_count_highest_interactions = merged_properties_df.loc[highest_interactions_property, 'photo_count']\n",
    "print(\"Q16: Photo count of property with highest interactions:\", photo_count_highest_interactions)\n",
    "\n"
   ]
  },
  {
   "cell_type": "code",
   "execution_count": 26,
   "id": "0375624a-0435-44ef-8feb-4b7b18d37c14",
   "metadata": {},
   "outputs": [
    {
     "name": "stdout",
     "output_type": "stream",
     "text": [
      "Q17: Hypothesis test result: reject the null hypothesis\n"
     ]
    }
   ],
   "source": [
    "# QUESTION 17: Hypothesis test for gym vs no gym interactions\n",
    "with_gym = merged_properties_df[merged_properties_df['gym'] == 1]['total_interactions']\n",
    "without_gym = merged_properties_df[merged_properties_df['gym'] == 0]['total_interactions']\n",
    "t_stat, p_value = ttest_ind(with_gym, without_gym, equal_var=False)\n",
    "hypothesis_result = \"reject the null hypothesis\" if p_value < 0.05 else \"failed to reject the null hypothesis\"\n",
    "print(\"Q17: Hypothesis test result:\", hypothesis_result)\n",
    "\n"
   ]
  },
  {
   "cell_type": "code",
   "execution_count": 19,
   "id": "986cc005-dd75-444f-9806-83243db2491c",
   "metadata": {},
   "outputs": [
    {
     "name": "stdout",
     "output_type": "stream",
     "text": [
      "Q18: Most frequent time category: Evening\n"
     ]
    }
   ],
   "source": [
    "# QUESTION 18: Most frequent time category\n",
    "def categorize_time(hour):\n",
    "    if 0 <= hour < 6:\n",
    "        return 'Midnight'\n",
    "    elif 6 <= hour < 12:\n",
    "        return 'Morning'\n",
    "    elif 12 <= hour < 18:\n",
    "        return 'Afternoon'\n",
    "    else:\n",
    "        return 'Evening'\n",
    "\n",
    "property_interactions_df['hour'] = property_interactions_df['request_date'].dt.hour\n",
    "property_interactions_df['time_category'] = property_interactions_df['hour'].apply(categorize_time)\n",
    "most_frequent_time_category = property_interactions_df['time_category'].mode()[0]\n",
    "print(\"Q18: Most frequent time category:\", most_frequent_time_category)\n",
    "\n"
   ]
  },
  {
   "cell_type": "code",
   "execution_count": 20,
   "id": "d6b9fdef-976e-4a23-8eb0-91b1a0264c81",
   "metadata": {},
   "outputs": [
    {
     "name": "stdout",
     "output_type": "stream",
     "text": [
      "Q19: Most common activation date: 2017-03-02 19:23:00\n"
     ]
    }
   ],
   "source": [
    "# QUESTION 19: Most common activation date\n",
    "most_common_activation_date = merged_properties_df['activation_date'].mode()[0]\n",
    "print(\"Q19: Most common activation date:\", most_common_activation_date)\n",
    "\n"
   ]
  },
  {
   "cell_type": "code",
   "execution_count": 21,
   "id": "436793b3-14f0-47cc-9b55-0af267e8142f",
   "metadata": {},
   "outputs": [
    {
     "name": "stdout",
     "output_type": "stream",
     "text": [
      "Q20: Percentage of properties under 'Anyone' lease type: 0.0\n"
     ]
    }
   ],
   "source": [
    "# QUESTION 20: Percentage of 'Anyone' lease type\n",
    "anyone_lease_percentage = round(\n",
    "    (merged_properties_df[merged_properties_df['lease_type'] == 'Anyone'].shape[0] / merged_properties_df.shape[0]) * 100,\n",
    "    0\n",
    ")\n",
    "print(\"Q20: Percentage of properties under 'Anyone' lease type:\", anyone_lease_percentage)\n"
   ]
  }
 ],
 "metadata": {
  "kernelspec": {
   "display_name": "Python 3 (ipykernel)",
   "language": "python",
   "name": "python3"
  },
  "language_info": {
   "codemirror_mode": {
    "name": "ipython",
    "version": 3
   },
   "file_extension": ".py",
   "mimetype": "text/x-python",
   "name": "python",
   "nbconvert_exporter": "python",
   "pygments_lexer": "ipython3",
   "version": "3.10.7"
  }
 },
 "nbformat": 4,
 "nbformat_minor": 5
}
